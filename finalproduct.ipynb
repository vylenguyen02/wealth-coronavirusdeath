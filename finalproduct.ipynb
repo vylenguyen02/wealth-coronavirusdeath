{
  "cells": [
    {
      "cell_type": "markdown",
      "source": [
        "##**Mid-term Project**"
      ],
      "metadata": {
        "id": "MXj5FMPvuDZy"
      }
    },
    {
      "cell_type": "markdown",
      "source": [
        "For this midterm project, I want to work on the relationship between wealth and corona virus deaths. It seems to me that the regions that are short access to vaccination tend to have a higher death rates and COVID infection rates and the main reason for this shortage is from the economic situation of the nation. I have found three data sets that I will use for this project about GDP growth, world’s covid cases and deaths, and vaccination rate in some country. In these three data sets provide the GDP growth in 2015, the number of people receiving the first, second and boosted shots in different\n",
        "countries, and the COVID cases, COVID death in 2020 and 2021. One problem I encountered during this process wat that I was not able to find the public data of GDP growth in the recent. Furthermore, there are data sets that project the GDP growth of countries around to world up to 2030 but I believe the effect corona virus have on the world’s economy growth is substantial. Thus, I decided to stick to 2015’s data. I also\n",
        "found some other data sets but they either mainly focus on one country only or they will not contain the nations’ population or the death rate for comparision. However, in these three data sets arise a problem, such that contain unnecessary to answer my question. I am planning to write about 7 functions, including:\n",
        "\n",
        "\n",
        "``` def clean_data(data) ``` to process and clean data so that I can work on it\n",
        "\n",
        "``` def convert_to_DoL(data) ``` to convert 1 processed data to DoL\n",
        "\n",
        "``` def convert_to_LoL(data) ``` to convert 1 processed data to LoL\n",
        "\n",
        "``` def convert_to_DataFrame (data) ``` to convert the data structures to pandas DataFrames\n",
        "\n",
        "``` def comparison_vaccination (data) ``` to show the crelationship in COVID-infected cases and death cases between nations which have high access to vaccination and that have low vaccination rate\n",
        "\n",
        " \n",
        "``` def comparison_gdp (data) ``` to show the relationship between nations with high gdp and their access to vaccination\n",
        "\n",
        "``` def main () ``` to coordinate above functions and thus, conclude if there is a relationship between COVID cases, deaths and GDP and if vaccination is the cause."
      ],
      "metadata": {
        "id": "g_fvrvih7weK"
      }
    },
    {
      "cell_type": "markdown",
      "source": [
        "The datasets I am using for today's project are:\n",
        "\n",
        "covid.csv: https://drive.google.com/file/d/1-rrckUR3Vr5zSExk4Ho1PGU9dsJSB3sM/view?usp=sharing\n",
        "\n",
        "gdp.csv: https://drive.google.com/file/d/13R9ebYM1ZYFBLMklskZEp1s8GTFkDYUX/view?usp=sharing\n",
        "\n",
        "vaccination.csv: https://drive.google.com/file/d/10Qot_LrbFRiFDd0sg2_IbCfoUaUOk1XV/view?usp=sharing"
      ],
      "metadata": {
        "id": "7gwP6Lvzv0K5"
      }
    },
    {
      "cell_type": "code",
      "execution_count": 3,
      "metadata": {
        "id": "8tdTRYgbSskv"
      },
      "outputs": [],
      "source": [
        "import pandas as pd\n",
        "import numpy as np"
      ]
    },
    {
      "cell_type": "markdown",
      "source": [
        "#Parsing Datasets\n",
        "\n",
        "For this project, I will use \n",
        "```clean_data```\n",
        " function to process data and strip unnecessary characters in the data file - such as \"\\n\" - then append the processed data into a ```line``` list.\n"
      ],
      "metadata": {
        "id": "51zF9UZGwI39"
      }
    },
    {
      "cell_type": "code",
      "source": [
        "def clean_data(filename):\n",
        "  with open(filename,'r') as fi:\n",
        "    read_DoL = fi.readlines() #read each lines of file\n",
        "  line = list()\n",
        "  for lines in read_DoL:\n",
        "    line.append(lines.strip('\\n')) #strip \\n at the end of line\n",
        "  return line"
      ],
      "metadata": {
        "id": "dchwXz4Dn5yB"
      },
      "execution_count": 4,
      "outputs": []
    },
    {
      "cell_type": "markdown",
      "metadata": {
        "id": "J6I8cKtVMrhr"
      },
      "source": [
        "# Dictionary of Lists\n",
        "\n",
        "In order to build a DoL, I will use ```convert_to_DoL``` function.\n",
        "\n",
        "For this part, I am using vaccination.csv dataset to test the validation of this function.\n",
        "\n"
      ]
    },
    {
      "cell_type": "code",
      "execution_count": 5,
      "metadata": {
        "id": "L505jHTOMliO"
      },
      "outputs": [],
      "source": [
        "def convert_to_DoL(filename):\n",
        "  line = clean_data(filename) #parse dataset\n",
        "  index = line[0].split(',') \n",
        "  for i in range(len(index)):\n",
        "    index[i] = index[i].replace(\"_\",\" \")\n",
        "  DoL = {var:[] for var in index} #create DoL keys using the variables in index list\n",
        "  for value in range(1,len(line)):\n",
        "    temp = line[value].strip('\\n').split(',') #strip \\n at the end of line and split values and store into lists\n",
        "    for column in range(len(index)):\n",
        "      DoL[index[column]].append(temp[column]) #append corresponding value into lists in DoL dictionary\n",
        "  return DoL\n"
      ]
    },
    {
      "cell_type": "markdown",
      "source": [
        "#List of lists\n",
        "\n",
        "In order to build a LoL, I will use ```convert_to_LoL``` function.\n",
        "\n",
        "For this part, I am using gdp.csv dataset to test the validation of this function."
      ],
      "metadata": {
        "id": "ypXHJRtkxs5v"
      }
    },
    {
      "cell_type": "code",
      "source": [
        "def convert_to_LoL(filename):\n",
        "  line = clean_data(filename) #parse data\n",
        "  columns = []\n",
        "  columns = line.pop(0).split(',') #create column list\n",
        "  for value in range(len(columns)):\n",
        "    columns[value] = columns[value].replace(\"_\",\" \") #replace _ with [space]\n",
        "\n",
        "  LoL = []\n",
        "  for value in range(len(line)):\n",
        "    temp = line[value].split(',') #separate values into lists\n",
        "    LoL.append(temp) #append lists into list\n",
        "  return [LoL, columns]\n",
        "#convert_to_LoL('gdp.csv')"
      ],
      "metadata": {
        "id": "Mo5SzdBmrCSr"
      },
      "execution_count": 6,
      "outputs": []
    },
    {
      "cell_type": "markdown",
      "source": [
        "#Pandas DataFrame\n",
        "\n",
        "There are two ways to construct dataset into a Panda DataFrame: either directly by reading the csv file or indirectly through DoL or LoL.\n",
        "\n",
        "For this ``` df ``` function, I create 2 conditions to process 2 different types of data (DoL/LoL or csv file).\n",
        "\n"
      ],
      "metadata": {
        "id": "G_VNvgTtx2_z"
      }
    },
    {
      "cell_type": "code",
      "source": [
        "def construct_df(filename, column =0):\n",
        "  if column == 0 and type(filename) == str:\n",
        "    df = pd.read_csv(filename)\n",
        "  elif column == 0:\n",
        "    df = pd.DataFrame(filename)\n",
        "  else:\n",
        "    df = pd.DataFrame(filename,columns=column)\n",
        "  return df\n"
      ],
      "metadata": {
        "id": "2dgjhupLpLoj"
      },
      "execution_count": 7,
      "outputs": []
    },
    {
      "cell_type": "markdown",
      "source": [
        "#Clean data\n",
        "\n",
        "When it comes to data cleaning, I believe that different data have different ways to \"be cleaned up\" dependinding on the users' purposes as well as the structure of the dataset. Thus, I did not create a specific function which can fit in well with every dataset but rather modify the dataset as I want in the ```main``` function.\n",
        "\n",
        "More specifically:\n",
        "\n",
        "For the ```covid.csv``` file, I only focus on the data from the ```Confirmed```, ```Deaths```, ```Deaths / 100```, ```Recovered / 100``` columns so that I could make equivalent comparisons between COVID cases, death and recover rates with GDP in one nation.\n",
        "\n",
        "For the ```gdp.csv``` file, I decided to drop the rows in which the year value is not 2019. I chose 2019 because the pandemic happened at the beginning of 2020 and many nations had already been affected by it. Thus, if I chose GDP value in 2020, it would result in a biased dataset. Moreover, I also want to see what an effect COVID had on GDP in different nations so I created another DataFrame to compare the GDP of different countries in 2019 and 2020.\n",
        "During this cleaning process, I encountered a problem, such that the value type in the ```GDP per capita``` and ```Year``` column is ```str``` instead of ```float```. Thus, I decided to create new lists for ```GDP``` and ```Year``` and add it to the ```gdp``` DataFrame while dropping the ```GDP per capita``` and ```Year``` columns. I later set the index of the DataFrame as ```Entity``` or country name and sort the DataFrame by its GDP value.\n",
        "\n",
        "For the ```vaccination.csv``` file is a little bit more complex. I have to group by values, since the values are from different days (in other words, it has not been summed yet), to check for the information upon vaccination from a country."
      ],
      "metadata": {
        "id": "1dq4aysN19-J"
      }
    },
    {
      "cell_type": "code",
      "source": [
        "def main():\n",
        "  #turn covid.csv into DataFrame using DoL\n",
        "  DoL = convert_to_DoL('covid.csv')\n",
        "  DoL = construct_df(DoL)\n",
        "\n",
        "  #turn gdp.csv into DataFrame using LoL\n",
        "  [LoL, columns] = convert_to_LoL('gdp.csv')\n",
        "  LoL = construct_df(LoL, columns)\n",
        "\n",
        "  #turn vaccination.csv into DataFrame using pandas\n",
        "  df = construct_df('vaccination.csv')\n",
        "\n",
        "  #drop N/A value in datasets\n",
        "  clean_val = [DoL, LoL, df]\n",
        "  for value in clean_val:\n",
        "    value = value.dropna(inplace=True)\n",
        "  \n",
        "  #clean covid.csv \n",
        "  covid = DoL.reindex(columns=['Country/Region', 'Confirmed', 'Deaths', 'Deaths / 100 Cases', 'Recovered / 100 Cases'])\n",
        "  covid = covid.set_index('Country/Region')\n",
        "  sort_by_death_rate = covid.sort_values(by='Deaths / 100 Cases')\n",
        "  sort_by_death = covid.sort_values(by='Deaths')\n",
        "  sort_by_recovered_rate = covid.sort_values(by='Recovered / 100 Cases')\n",
        "  sort_by_confirmed = covid.sort_values(by='Confirmed')\n",
        "\n",
        "\n",
        "  #clean gdp.csv\n",
        "  GDP = []\n",
        "  Year = []\n",
        "  for value in LoL['GDP per capita']:\n",
        "    GDP.append(float(value))\n",
        "  for number in LoL['Year']:\n",
        "    Year.append(int(number))\n",
        "  LoL.drop(['GDP per capita', 'Year'], axis = 1, inplace=True)\n",
        "  LoL['GDP'] = GDP\n",
        "  LoL['Year'] = Year\n",
        "  LoL.columns.str.strip()\n",
        "  compare = LoL.copy()\n",
        "  compare = compare[compare['Year'] == 2020]\n",
        "  compare = compare.set_index('Entity')\n",
        "  compare = compare.sort_values(by='GDP')\n",
        "  LoL = LoL[LoL['Year'] == 2019]\n",
        "  LoL = LoL.set_index('Entity')\n",
        "  LoL = LoL.sort_values(by='GDP')\n",
        "  combined = pd.concat([LoL,compare], axis = 1, keys = pd.Index([2019,2020]))\n",
        "  \n",
        "\n",
        "  #clean vaccination.csv by \n",
        "  df1 = df.groupby('location')\n",
        "  dfk = df1.agg({'total_vaccinations':sum,'people_vaccinated':sum, 'total_vaccinations_per_hundred':sum, 'total_vaccinations_per_hundred':sum, 'people_vaccinated_per_hundred':sum, 'people_fully_vaccinated_per_hundred':sum})\n",
        "  people_fully_vaccinated_per_hundred = dfk.sort_values(by='people_fully_vaccinated_per_hundred')\n",
        "  \n",
        "\n",
        "  comparison_gdp(LoL['GDP'],people_fully_vaccinated_per_hundred['people_fully_vaccinated_per_hundred'],'people_fully_vaccinated_per_hundred')\n",
        "  comparison_gdp(LoL['GDP'],people_fully_vaccinated_per_hundred['people_vaccinated_per_hundred'], 'people_vaccinated_per_hundred')\n",
        "\n",
        "  comparison_vaccination (covid['Confirmed'], people_fully_vaccinated_per_hundred['people_fully_vaccinated_per_hundred'],'Confirmed','people_fully_vaccinated_per_hundred')\n",
        "  comparison_vaccination (covid['Deaths / 100 Cases'], people_fully_vaccinated_per_hundred['people_vaccinated_per_hundred'], 'Deaths / 100 Cases','people_vaccinated_per_hundred')\n",
        "main()\n"
      ],
      "metadata": {
        "colab": {
          "base_uri": "https://localhost:8080/",
          "height": 1000
        },
        "id": "vBTjiSDkoci5",
        "outputId": "af997615-d1af-4b91-dea7-9e4d9df29c9f"
      },
      "execution_count": 87,
      "outputs": [
        {
          "output_type": "display_data",
          "data": {
            "text/plain": [
              "<Figure size 432x288 with 1 Axes>"
            ],
            "image/png": "[encoded data removed]"
          },
          "metadata": {
            "needs_background": "light"
          }
        },
        {
          "output_type": "display_data",
          "data": {
            "text/plain": [
              "<Figure size 432x288 with 1 Axes>"
            ],
            "image/png": "[encoded data removed]"
          },
          "metadata": {
            "needs_background": "light"
          }
        },
        {
          "output_type": "display_data",
          "data": {
            "text/plain": [
              "<Figure size 432x288 with 1 Axes>"
            ],
            "image/png": "[encoded data removed]"
          },
          "metadata": {
            "needs_background": "light"
          }
        },
        {
          "output_type": "display_data",
          "data": {
            "text/plain": [
              "<Figure size 432x288 with 1 Axes>"
            ],
            "image/png": "[encoded data removed]"
          },
          "metadata": {
            "needs_background": "light"
          }
        }
      ]
    },
    {
      "cell_type": "markdown",
      "source": [
        "#Comparison and Conclusion\n",
        "\n",
        "I plotted the nation's GDP and their fully-vaccination-per-hundred data as well as nation's GDP and their vaccination-per-hundred data on a scatter; *thus, I came to the conclusion that the relationship between nations with high gdp and\n",
        "their access to vaccination is relatively weak.*\n",
        "\n",
        "I plotted the nation's access to vaccination (through the rate of vaccinated people) and their death rates as well as infected cases and I came to a conclusion that *the COVID-infected cases or death cases does not have any relation to that nation's access to vaccination*\n",
        "\n",
        "\n",
        "\n",
        "\n",
        "\n"
      ],
      "metadata": {
        "id": "_M6pGeUoq4o9"
      }
    },
    {
      "cell_type": "code",
      "source": [
        "import matplotlib.pyplot as plt\n",
        "import numpy as np\n",
        "\n",
        "def comparison_gdp (data1, data2, name):\n",
        "  compare = pd.concat([data1,data2], axis = 1)\n",
        "  compare.dropna(inplace=True)\n",
        "  x = compare['GDP']\n",
        "  y = compare[name]\n",
        "  plt.scatter(x, y)\n",
        "  plt.show()\n",
        "\n",
        "\n",
        "def comparison_vaccination (data1, data2, name1, name2):\n",
        "  compare = pd.concat([data1,data2], axis = 1)\n",
        "  compare.dropna(inplace=True)\n",
        "  x = compare[name1]\n",
        "  y = compare[name2]\n",
        "  plt.scatter(x, y)\n",
        "  plt.show()\n"
      ],
      "metadata": {
        "id": "6AAuxoBPzLC0"
      },
      "execution_count": 86,
      "outputs": []
    }
  ],
  "metadata": {
    "colab": {
      "collapsed_sections": [],
      "provenance": []
    },
    "kernelspec": {
      "display_name": "Python 3",
      "name": "python3"
    },
    "language_info": {
      "name": "python"
    }
  },
  "nbformat": 4,
  "nbformat_minor": 0
}